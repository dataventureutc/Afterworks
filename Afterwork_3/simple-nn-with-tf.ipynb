{
 "cells": [
  {
   "cell_type": "code",
   "execution_count": 2,
   "metadata": {
    "slideshow": {
     "slide_type": "slide"
    }
   },
   "outputs": [
    {
     "name": "stderr",
     "output_type": "stream",
     "text": [
      "/Users/Sylvain/.pyenv/versions/3.6.4/lib/python3.6/importlib/_bootstrap.py:219: RuntimeWarning: compiletime version 3.5 of module 'tensorflow.python.framework.fast_tensor_util' does not match runtime version 3.6\n",
      "  return f(*args, **kwds)\n"
     ]
    }
   ],
   "source": [
    "import numpy as np\n",
    "import tensorflow as tf\n",
    "\n",
    "np.random.seed(1)\n",
    "tf.set_random_seed(1)"
   ]
  },
  {
   "cell_type": "markdown",
   "metadata": {
    "slideshow": {
     "slide_type": "slide"
    }
   },
   "source": [
    "# Tensorflow"
   ]
  },
  {
   "cell_type": "markdown",
   "metadata": {
    "slideshow": {
     "slide_type": "slide"
    }
   },
   "source": [
    "## Variables input et output\n",
    "$$X = \\quad\n",
    "\\begin{bmatrix} \n",
    "x_{1}^{(1)} & x_{1}^{(1)} & ... & x_{1}^{(m)} \\\\\n",
    "x_{2}^{(1)} & x_{2}^{(2)} & ... & x_{2}^{(m)} \\\\\n",
    "\\vdots & \\vdots & ... & \\vdots\\\\\n",
    "x_{n_0}^{(1)} & x_{n_0}^{(2)} & ... & x_{n_0}^{(m)}\n",
    "\\end{bmatrix}\n",
    "\\in \\mathbb{R^{n_0 \\times{} m}}\n",
    "$$\n",
    "\n",
    "$$y = \\quad\n",
    "\\begin{bmatrix} \n",
    "0 & 1 & ... & 0 \\\\\n",
    "1 & 0 & ... & 0 \\\\\n",
    "\\vdots & \\vdots & ... & \\vdots\\\\\n",
    "0 & 0 & ... & 1\n",
    "\\end{bmatrix}\n",
    "\\in \\mathbb{R^{n_2 \\times{} m}}\n",
    "$$"
   ]
  },
  {
   "cell_type": "code",
   "execution_count": 3,
   "metadata": {
    "slideshow": {
     "slide_type": "subslide"
    }
   },
   "outputs": [
    {
     "data": {
      "text/plain": [
       "(<tf.Tensor 'x:0' shape=(3, ?) dtype=float32>,\n",
       " <tf.Tensor 'y:0' shape=(2, ?) dtype=float32>)"
      ]
     },
     "execution_count": 3,
     "metadata": {},
     "output_type": "execute_result"
    }
   ],
   "source": [
    "# Input and output\n",
    "n0 = 3\n",
    "n2 = 2\n",
    "X = tf.placeholder(tf.float32, shape=[n0, None], name=\"x\")\n",
    "y = tf.placeholder(tf.float32, shape=[2, None], name=\"y\")\n",
    "X, y"
   ]
  },
  {
   "cell_type": "markdown",
   "metadata": {
    "slideshow": {
     "slide_type": "slide"
    }
   },
   "source": [
    "## Hidden layer\n",
    "\n",
    "$$z_{1} = W_{1}X + b_{1}$$\n",
    "$$a_{1} = \\sigma(z_{1})$$"
   ]
  },
  {
   "cell_type": "code",
   "execution_count": 4,
   "metadata": {
    "slideshow": {
     "slide_type": "subslide"
    }
   },
   "outputs": [
    {
     "data": {
      "text/plain": [
       "<tf.Tensor 'Sigmoid:0' shape=(5, ?) dtype=float32>"
      ]
     },
     "execution_count": 4,
     "metadata": {},
     "output_type": "execute_result"
    }
   ],
   "source": [
    "# Hidden layer\n",
    "n1 = 5\n",
    "W1 = tf.Variable(tf.random_normal([n1, n0]), tf.float32, name=\"W1\")\n",
    "b1 = tf.Variable(tf.random_normal([n1, 1]), tf.float32, name=\"b1\")\n",
    "z1 = tf.matmul(W1, X) + b1\n",
    "a1 = tf.sigmoid(z1)\n",
    "a1"
   ]
  },
  {
   "cell_type": "markdown",
   "metadata": {
    "slideshow": {
     "slide_type": "slide"
    }
   },
   "source": [
    "## Output layer\n",
    "\n",
    "$$z_{2} = W_{2}X + b_{2}$$"
   ]
  },
  {
   "cell_type": "code",
   "execution_count": 5,
   "metadata": {
    "slideshow": {
     "slide_type": "subslide"
    }
   },
   "outputs": [
    {
     "data": {
      "text/plain": [
       "<tf.Tensor 'add_1:0' shape=(2, ?) dtype=float32>"
      ]
     },
     "execution_count": 5,
     "metadata": {},
     "output_type": "execute_result"
    }
   ],
   "source": [
    "# Output layer\n",
    "W2 = tf.Variable(tf.random_normal([n2, n1]), dtype=tf.float32, name=\"W2\")\n",
    "b2 = tf.Variable(tf.random_normal([n2, 1]), dtype=tf.float32, name=\"b2\")\n",
    "z2 = tf.matmul(W2, a1) + b2\n",
    "z2"
   ]
  },
  {
   "cell_type": "markdown",
   "metadata": {
    "slideshow": {
     "slide_type": "slide"
    }
   },
   "source": [
    "$$\\hat{y} = softmax(z_{2}) \\in \\mathbb{R^{n_2}}$$\n",
    "$$y_{pred} = argmax(\\hat{y}) \\in \\mathbb{R}$$"
   ]
  },
  {
   "cell_type": "code",
   "execution_count": 6,
   "metadata": {
    "slideshow": {
     "slide_type": "subslide"
    }
   },
   "outputs": [
    {
     "data": {
      "text/plain": [
       "(<tf.Tensor 'Softmax:0' shape=(2, ?) dtype=float32>,\n",
       " <tf.Tensor 'ArgMax:0' shape=(?,) dtype=int64>)"
      ]
     },
     "execution_count": 6,
     "metadata": {},
     "output_type": "execute_result"
    }
   ],
   "source": [
    "# Softmax\n",
    "y_hat = tf.nn.softmax(z2) # [0.3, 0.7]\n",
    "y_pred = tf.argmax(y_hat) # 0 (A) ou 1 (B)\n",
    "y_hat, y_pred"
   ]
  },
  {
   "cell_type": "markdown",
   "metadata": {
    "slideshow": {
     "slide_type": "slide"
    }
   },
   "source": [
    "## Loss\n",
    "\n",
    "$$ \\mathcal{L}(y^{(i)}, \\hat{y}^{(i)}) = - \\sum_{j}{y^{(j)} log(\\hat{y}^{(j)})} $$\n",
    "\n",
    "$$ L = \\frac{1}{m} \\sum_{i=1}^{m}{\\mathcal{L}(y^{(i)}, \\hat{y}^{(i)})} $$"
   ]
  },
  {
   "cell_type": "code",
   "execution_count": 7,
   "metadata": {
    "slideshow": {
     "slide_type": "subslide"
    }
   },
   "outputs": [
    {
     "data": {
      "text/plain": [
       "<tf.Tensor 'Mean:0' shape=() dtype=float32>"
      ]
     },
     "execution_count": 7,
     "metadata": {},
     "output_type": "execute_result"
    }
   ],
   "source": [
    "# Cross-entropy loss\n",
    "cross_entropy = -tf.reduce_sum(y * tf.log(y_hat), axis=0)\n",
    "cross_entropy = tf.reduce_mean(cross_entropy) # sur toutes les données\n",
    "cross_entropy"
   ]
  },
  {
   "cell_type": "markdown",
   "metadata": {
    "slideshow": {
     "slide_type": "slide"
    }
   },
   "source": [
    "## Gradient Descent"
   ]
  },
  {
   "cell_type": "code",
   "execution_count": 8,
   "metadata": {
    "slideshow": {
     "slide_type": "subslide"
    }
   },
   "outputs": [
    {
     "data": {
      "text/plain": [
       "<tf.Operation 'GradientDescent' type=NoOp>"
      ]
     },
     "execution_count": 8,
     "metadata": {},
     "output_type": "execute_result"
    }
   ],
   "source": [
    "optimizer = tf.train.GradientDescentOptimizer(learning_rate=0.001)\n",
    "train_step = optimizer.minimize(cross_entropy)\n",
    "train_step"
   ]
  },
  {
   "cell_type": "markdown",
   "metadata": {
    "slideshow": {
     "slide_type": "slide"
    }
   },
   "source": [
    "## Train Dataset\n",
    "\n",
    "$$X,y = \\{(x^{(1)}, y^{(1)}),(x^{(2)}, y^{(2)}), ..., (x^{(m)}, y^{(m)})\\}$$"
   ]
  },
  {
   "cell_type": "code",
   "execution_count": 9,
   "metadata": {
    "slideshow": {
     "slide_type": "subslide"
    }
   },
   "outputs": [
    {
     "name": "stdout",
     "output_type": "stream",
     "text": [
      "[[ 1.62434536 -0.61175641 -0.52817175 -1.07296862  0.86540763]\n",
      " [-2.3015387   1.74481176 -0.7612069   0.3190391  -0.24937038]\n",
      " [ 1.46210794 -2.06014071 -0.3224172  -0.38405435  1.13376944]]\n",
      "[[0. 1. 0. 0. 0.]\n",
      " [1. 0. 0. 0. 0.]]\n"
     ]
    }
   ],
   "source": [
    "m = 5\n",
    "X_train = np.random.randn(3, m) # m vecteurs random dans R^3\n",
    "y_train = np.eye(m)[np.random.choice(m, 2)] # m vecteurs one-hot random dans R^2\n",
    "print(X_train)\n",
    "print(y_train)"
   ]
  },
  {
   "cell_type": "markdown",
   "metadata": {
    "slideshow": {
     "slide_type": "slide"
    }
   },
   "source": [
    "## Learning"
   ]
  },
  {
   "cell_type": "code",
   "execution_count": 10,
   "metadata": {
    "slideshow": {
     "slide_type": "subslide"
    }
   },
   "outputs": [],
   "source": [
    "sess = tf.InteractiveSession()"
   ]
  },
  {
   "cell_type": "code",
   "execution_count": 11,
   "metadata": {
    "scrolled": false,
    "slideshow": {
     "slide_type": "subslide"
    }
   },
   "outputs": [
    {
     "name": "stdout",
     "output_type": "stream",
     "text": [
      "epoch 0 \t loss: 0.7989217042922974\n",
      "epoch 1 \t loss: 0.7985903024673462\n",
      "epoch 2 \t loss: 0.7982592582702637\n",
      "epoch 3 \t loss: 0.7979282140731812\n",
      "epoch 4 \t loss: 0.7975974678993225\n",
      "epoch 5 \t loss: 0.7972668409347534\n",
      "epoch 6 \t loss: 0.7969365119934082\n",
      "epoch 7 \t loss: 0.7966062426567078\n",
      "epoch 8 \t loss: 0.796276330947876\n",
      "epoch 9 \t loss: 0.795946478843689\n"
     ]
    }
   ],
   "source": [
    "# Initialise les tf.Variable()\n",
    "sess.run(tf.global_variables_initializer())\n",
    "\n",
    "# Tensorboard\n",
    "tf.summary.FileWriter(\"../tmp/simple_nn_with_tf\", sess.graph)\n",
    "\n",
    "for epoch in range(10):\n",
    "\n",
    "    # sess.run(cross_entropy) -> calcul de la valeur de la loss\n",
    "    # sess.run(train_step) -> calcul d'une étape de la Gradient Descent et mise à jour des paramètres\n",
    "    # feed_dict -> données réelles que prennent les placeholders X et y\n",
    "    loss, _ = sess.run([cross_entropy, train_step], feed_dict={X: X_train, y: y_train})\n",
    "\n",
    "    print(\"epoch {} \\t loss: {}\".format(epoch, loss))"
   ]
  },
  {
   "cell_type": "markdown",
   "metadata": {
    "slideshow": {
     "slide_type": "slide"
    }
   },
   "source": [
    "## Testing"
   ]
  },
  {
   "cell_type": "code",
   "execution_count": 11,
   "metadata": {
    "slideshow": {
     "slide_type": "subslide"
    }
   },
   "outputs": [],
   "source": [
    "m_test = 10\n",
    "X_test = np.random.randn(3, m_test) # m vecteurs random dans R^3\n",
    "y_test = np.random.randint(0, 2, size=m_test) # m valeurs dans {0,1}"
   ]
  },
  {
   "cell_type": "code",
   "execution_count": 12,
   "metadata": {
    "slideshow": {
     "slide_type": "subslide"
    }
   },
   "outputs": [
    {
     "data": {
      "text/plain": [
       "(array([0, 0, 0, 1, 1, 1, 1, 1, 0, 1]), array([1, 0, 1, 1, 1, 0, 1, 1, 1, 0]))"
      ]
     },
     "execution_count": 12,
     "metadata": {},
     "output_type": "execute_result"
    }
   ],
   "source": [
    "# Feed forward avec les données de test\n",
    "y_eval = sess.run(y_pred, feed_dict={X: X_test})\n",
    "y_test, y_eval"
   ]
  },
  {
   "cell_type": "markdown",
   "metadata": {
    "slideshow": {
     "slide_type": "slide"
    }
   },
   "source": [
    "$$ accuracy = \\frac{1}{m} \\sum_{i=1}^{m_{test}}{\\mathbb{1}{\\{y^{(i)} = \\hat{y}^{(i)}\\}}} $$"
   ]
  },
  {
   "cell_type": "code",
   "execution_count": 13,
   "metadata": {
    "slideshow": {
     "slide_type": "subslide"
    }
   },
   "outputs": [
    {
     "data": {
      "text/plain": [
       "0.5"
      ]
     },
     "execution_count": 13,
     "metadata": {},
     "output_type": "execute_result"
    }
   ],
   "source": [
    "from sklearn.metrics import accuracy_score\n",
    "accuracy_score(y_test, y_eval)"
   ]
  },
  {
   "cell_type": "markdown",
   "metadata": {
    "slideshow": {
     "slide_type": "slide"
    }
   },
   "source": [
    "# Tensorboard"
   ]
  },
  {
   "cell_type": "markdown",
   "metadata": {
    "slideshow": {
     "slide_type": "subslide"
    }
   },
   "source": [
    "`tensorboard --logdir=../tmp/simple_nn_with_tf`"
   ]
  },
  {
   "cell_type": "code",
   "execution_count": null,
   "metadata": {},
   "outputs": [],
   "source": []
  }
 ],
 "metadata": {
  "celltoolbar": "Slideshow",
  "kernelspec": {
   "display_name": "Python 3",
   "language": "python",
   "name": "python3"
  },
  "language_info": {
   "codemirror_mode": {
    "name": "ipython",
    "version": 3
   },
   "file_extension": ".py",
   "mimetype": "text/x-python",
   "name": "python",
   "nbconvert_exporter": "python",
   "pygments_lexer": "ipython3",
   "version": "3.6.4"
  },
  "toc": {
   "colors": {
    "hover_highlight": "#DAA520",
    "navigate_num": "#000000",
    "navigate_text": "#333333",
    "running_highlight": "#FF0000",
    "selected_highlight": "#FFD700",
    "sidebar_border": "#EEEEEE",
    "wrapper_background": "#FFFFFF"
   },
   "moveMenuLeft": true,
   "nav_menu": {
    "height": "12px",
    "width": "252px"
   },
   "navigate_menu": true,
   "number_sections": true,
   "sideBar": true,
   "threshold": 4,
   "toc_cell": false,
   "toc_section_display": "block",
   "toc_window_display": false,
   "widenNotebook": false
  }
 },
 "nbformat": 4,
 "nbformat_minor": 2
}
