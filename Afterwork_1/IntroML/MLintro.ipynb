{
 "cells": [
  {
   "cell_type": "markdown",
   "metadata": {},
   "source": [
    "# Initiation au Machine Learning avec Python\n",
    "Elias Hariz - Mars 2018"
   ]
  },
  {
   "cell_type": "code",
   "execution_count": null,
   "metadata": {},
   "outputs": [],
   "source": [
    "import pandas as pd \n",
    "import matplotlib.pyplot as plt\n",
    "import seaborn as sns\n",
    "import numpy as np"
   ]
  },
  {
   "cell_type": "markdown",
   "metadata": {},
   "source": [
    "Importation des outils qu'on utilisera pour analyser nos données. En particulier, on utilisera :\n",
    "* Pandas pour importer nos données à partir d'un fichier csv\n",
    "* NumPy pour manipuler nos données sous forme de matrices\n",
    "* PyPlot et Seaborn pour représenter graphiquement les données "
   ]
  },
  {
   "cell_type": "code",
   "execution_count": null,
   "metadata": {},
   "outputs": [],
   "source": [
    "df = pd.read_csv(\"../library/Iris.csv\")"
   ]
  },
  {
   "cell_type": "markdown",
   "metadata": {},
   "source": [
    "Notre dataset (ou jeu de données) est un tableau contenant les caractéristiques de 150 fleurs d'Iris. Notre objectif sera de déterminer l'espèce d'Iris (virginica, setosa, versicolor) à partir des autres caractéristiques. Pour ce faire, nous allons construire un modéle prédictif ! "
   ]
  },
  {
   "cell_type": "code",
   "execution_count": null,
   "metadata": {},
   "outputs": [],
   "source": [
    "df.isnull().any()"
   ]
  },
  {
   "cell_type": "markdown",
   "metadata": {},
   "source": [
    "Après importation du dataset, on vérifie qu'il ne contient pas de valeurs nulles (=cases vides dans certaines colonnes). En effet, les valeurs nulles peuvent impacter (parfois significativement) la fiabilité des prédictions de nos algorithmes de Machine Learning. Il existe plusieurs solutions pour éviter ce problème, comme remplacer les valeurs nulles par la moyenne ou la médiane de leur série statistique."
   ]
  },
  {
   "cell_type": "markdown",
   "metadata": {},
   "source": [
    "Il est important de bien connaitre le dataset pour obtenir un modèle prédictif fiable et précis. Commençons par étudier les types des variables : "
   ]
  },
  {
   "cell_type": "code",
   "execution_count": null,
   "metadata": {},
   "outputs": [],
   "source": [
    "df.dtypes"
   ]
  },
  {
   "cell_type": "markdown",
   "metadata": {},
   "source": [
    "Notre dataset contient différentes caractéristiques de nos Iris :\n",
    "* Longeur des sépales en cm (SepalLengthCm)\n",
    "* Largeur des sépales en cm (SepalWidthCm) \n",
    "* Longeur des pétales en cm (PetalLengthCm)\n",
    "* Largeur des pétales en cm (PetalWidthCm)\n",
    "* Espèce de l'Iris (Species)  \n",
    "  \n",
    "Voyons ceci dans un échantilon de notre dataset :"
   ]
  },
  {
   "cell_type": "code",
   "execution_count": null,
   "metadata": {},
   "outputs": [],
   "source": [
    "df.sample(5)"
   ]
  },
  {
   "cell_type": "markdown",
   "metadata": {},
   "source": [
    "Il semblerait que les iris de l'espèce *setosa* aient des pétales plus petites que celles des autres espèces. Peut-on utiliser la taille des pétales pour différencier les *setosa* des autres iris ? "
   ]
  },
  {
   "cell_type": "code",
   "execution_count": null,
   "metadata": {},
   "outputs": [],
   "source": [
    "sns.stripplot(x=\"Species\", y=\"PetalWidthCm\", data=df)"
   ]
  },
  {
   "cell_type": "markdown",
   "metadata": {},
   "source": [
    "Intéressons-nous ensuite à quelques indicateurs statistiques : "
   ]
  },
  {
   "cell_type": "code",
   "execution_count": null,
   "metadata": {},
   "outputs": [],
   "source": [
    "df.describe()"
   ]
  },
  {
   "cell_type": "markdown",
   "metadata": {},
   "source": [
    "Pour bâtir notre modèle prédictif, il est important de bien choisir les variables (également appelées *features* ) sur lesquelles nous allons nous baser pour effectuer nos prédictions. L'**Id** n'ayant logiquement pas de corrélation avec le type d'Iris, nous allons le retirer afin d'éviter des problèmes d'overfitting :"
   ]
  },
  {
   "cell_type": "code",
   "execution_count": null,
   "metadata": {},
   "outputs": [],
   "source": [
    "df = df.drop(['Id'], axis=1) "
   ]
  },
  {
   "cell_type": "markdown",
   "metadata": {},
   "source": [
    "Maintenant, essayons de déterminer les **features** de notre modèle prédictif, c'est à dire les attributs à partir desquels il est le plus fiable de prédire le type d'Iris. Pour cela, nous allons utiliser le **pairplot** de Seaborn :"
   ]
  },
  {
   "cell_type": "code",
   "execution_count": null,
   "metadata": {},
   "outputs": [],
   "source": [
    "sns.pairplot(df, hue='Species')"
   ]
  },
  {
   "cell_type": "markdown",
   "metadata": {},
   "source": [
    "On constate ici que les espèces d'Iris se distinguent plutot bien avec les **features** retenues ! Par la suite, nous allons donc essayer de classifier nos fleurs à partir de ces **features**. "
   ]
  },
  {
   "cell_type": "code",
   "execution_count": null,
   "metadata": {},
   "outputs": [],
   "source": [
    "from sklearn.model_selection import train_test_split \n",
    "\n",
    "inputs = df[['SepalLengthCm', 'SepalWidthCm', 'PetalLengthCm', 'PetalWidthCm']].values\n",
    "outputs = df['Species'].values\n",
    "\n",
    "(train_inputs, test_inputs, train_outputs, test_outputs) = train_test_split(inputs, output, train_size=0.8, random_state=1)"
   ]
  },
  {
   "cell_type": "markdown",
   "metadata": {},
   "source": [
    "Dans le but de garder cette introduction simple et accesible, on opte ici pour un arbre de décision (**DecisionTreeClassifier**) comme algorithme de prédiction. Mais il en existe bien d'autres !  \n",
    "On sépare ensuite notre dataset entre l'attribut qu'on souhaite prédire (**Species**) et les **features** sur lesquels on compte se baser pour effectuer les prédictions (**SepalLengthCm, SepalWidthCm, PetalLengthCm, PetalWidthCm**).  \n",
    "Enfin, on sépare encore une fois notre dataset en 2 : les données sur lesquelles l'algorithme va s'entrainer et \"apprendre\" (**train_inputs** et **train_outputs**), et les données sur lesquelles nous allons mettre notre modèle à l'épreuve (**test_inputs** et **test_outputs**) en testant la fiabilité de ses prédictions !"
   ]
  },
  {
   "cell_type": "code",
   "execution_count": null,
   "metadata": {},
   "outputs": [],
   "source": [
    "from sklearn.tree import DecisionTreeClassifier\n",
    "\n",
    "dtc = DecisionTreeClassifier()\n",
    "dtc.fit(train_inputs, train_outputs)\n",
    "dtc.score(test_inputs, test_outputs)"
   ]
  },
  {
   "cell_type": "markdown",
   "metadata": {},
   "source": [
    "Notre modèle atteint environ 97% de fiabilité. Beau travail ! "
   ]
  }
 ],
 "metadata": {
  "kernelspec": {
   "display_name": "Python 3.6",
   "language": "python",
   "name": "python36"
  },
  "language_info": {
   "codemirror_mode": {
    "name": "ipython",
    "version": 3
   },
   "file_extension": ".py",
   "mimetype": "text/x-python",
   "name": "python",
   "nbconvert_exporter": "python",
   "pygments_lexer": "ipython3",
   "version": "3.6.3"
  }
 },
 "nbformat": 4,
 "nbformat_minor": 2
}
